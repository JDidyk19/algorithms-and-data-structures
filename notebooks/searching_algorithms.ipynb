{
 "cells": [
  {
   "cell_type": "markdown",
   "id": "36f94bf9",
   "metadata": {},
   "source": [
    "# Linear Search vs Binary Search"
   ]
  },
  {
   "cell_type": "code",
   "execution_count": 1,
   "id": "b5e592ab",
   "metadata": {},
   "outputs": [],
   "source": [
    "import matplotlib.pyplot as plt\n",
    "import numpy as np"
   ]
  },
  {
   "cell_type": "code",
   "execution_count": 2,
   "id": "ed21f256",
   "metadata": {
    "scrolled": true
   },
   "outputs": [
    {
     "data": {
      "image/png": "[encoded data removed]",
      "text/plain": [
       "<Figure size 432x288 with 1 Axes>"
      ]
     },
     "metadata": {
      "needs_background": "light"
     },
     "output_type": "display_data"
    }
   ],
   "source": [
    "n = np.linspace(1, 10, 1000)\n",
    "plt.plot(n, n, label=\"n\")\n",
    "plt.plot(n, np.log(n), label=\"log n\")\n",
    "plt.legend(loc='upper left')\n",
    "plt.show()"
   ]
  },
  {
   "cell_type": "code",
   "execution_count": 3,
   "id": "3529df27",
   "metadata": {},
   "outputs": [],
   "source": [
    "import sys\n",
    "import os\n",
    "\n",
    "module_path = os.path.abspath(os.path.join('..'))\n",
    "if module_path not in sys.path:\n",
    "    sys.path.append(module_path+\"\\\\algorithms\")\n",
    "    \n",
    "from search.linear_search import linear_search\n",
    "from search.binary_search import binary_search_iterative"
   ]
  },
  {
   "cell_type": "code",
   "execution_count": 4,
   "id": "79398fea",
   "metadata": {},
   "outputs": [],
   "source": [
    "test_array = np.random.randint(1, 10000, size=10000)\n",
    "order = test_array.argsort()\n",
    "sorted_array = test_array[order]"
   ]
  },
  {
   "cell_type": "markdown",
   "id": "cc7139fd",
   "metadata": {},
   "source": [
    "## Running time of Linear Search"
   ]
  },
  {
   "cell_type": "code",
   "execution_count": 5,
   "id": "40678414",
   "metadata": {},
   "outputs": [
    {
     "name": "stdout",
     "output_type": "stream",
     "text": [
      "2.13 ms ± 18.4 µs per loop (mean ± std. dev. of 7 runs, 100 loops each)\n"
     ]
    }
   ],
   "source": [
    "%timeit linear_search(sorted_array, 4589)"
   ]
  },
  {
   "cell_type": "markdown",
   "id": "bcfbad1d",
   "metadata": {},
   "source": [
    "## Running time of Binary Search"
   ]
  },
  {
   "cell_type": "code",
   "execution_count": 6,
   "id": "85124fb4",
   "metadata": {
    "scrolled": true
   },
   "outputs": [
    {
     "name": "stdout",
     "output_type": "stream",
     "text": [
      "10.2 µs ± 1.05 µs per loop (mean ± std. dev. of 7 runs, 100000 loops each)\n"
     ]
    }
   ],
   "source": [
    "%timeit binary_search_iterative(sorted_array, 4589)"
   ]
  }
 ],
 "metadata": {
  "kernelspec": {
   "display_name": "Python 3 (ipykernel)",
   "language": "python",
   "name": "python3"
  },
  "language_info": {
   "codemirror_mode": {
    "name": "ipython",
    "version": 3
   },
   "file_extension": ".py",
   "mimetype": "text/x-python",
   "name": "python",
   "nbconvert_exporter": "python",
   "pygments_lexer": "ipython3",
   "version": "3.9.9"
  }
 },
 "nbformat": 4,
 "nbformat_minor": 5
}
